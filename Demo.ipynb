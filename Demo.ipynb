{
  "nbformat": 4,
  "nbformat_minor": 0,
  "metadata": {
    "colab": {
      "name": "Demo.ipynb",
      "provenance": [],
      "toc_visible": true,
      "include_colab_link": true
    },
    "kernelspec": {
      "name": "python3",
      "display_name": "Python 3"
    },
    "accelerator": "GPU"
  },
  "cells": [
    {
      "cell_type": "markdown",
      "metadata": {
        "id": "view-in-github",
        "colab_type": "text"
      },
      "source": [
        "<a href=\"https://colab.research.google.com/github/GillianYeung/gclyeung/blob/master/Demo.ipynb\" target=\"_parent\"><img src=\"https://colab.research.google.com/assets/colab-badge.svg\" alt=\"Open In Colab\"/></a>"
      ]
    },
    {
      "cell_type": "code",
      "metadata": {
        "id": "hu9ob1NbdXNC",
        "colab_type": "code",
        "colab": {
          "base_uri": "https://localhost:8080/",
          "height": 266
        },
        "outputId": "314fe5d2-655c-4225-e03a-884cb55ecaca"
      },
      "source": [
        "!pip install fasttext\n",
        "!pip install jieba"
      ],
      "execution_count": 1,
      "outputs": [
        {
          "output_type": "stream",
          "text": [
            "Collecting fasttext\n",
            "\u001b[?25l  Downloading https://files.pythonhosted.org/packages/10/61/2e01f1397ec533756c1d893c22d9d5ed3fce3a6e4af1976e0d86bb13ea97/fasttext-0.9.1.tar.gz (57kB)\n",
            "\u001b[K     |████████████████████████████████| 61kB 2.5MB/s \n",
            "\u001b[?25hRequirement already satisfied: pybind11>=2.2 in /usr/local/lib/python3.6/dist-packages (from fasttext) (2.4.3)\n",
            "Requirement already satisfied: setuptools>=0.7.0 in /usr/local/lib/python3.6/dist-packages (from fasttext) (41.2.0)\n",
            "Requirement already satisfied: numpy in /usr/local/lib/python3.6/dist-packages (from fasttext) (1.16.5)\n",
            "Building wheels for collected packages: fasttext\n",
            "  Building wheel for fasttext (setup.py) ... \u001b[?25l\u001b[?25hdone\n",
            "  Created wheel for fasttext: filename=fasttext-0.9.1-cp36-cp36m-linux_x86_64.whl size=2387958 sha256=53e3a0b28302827fbcf0bd7c205b4582f40809e87c026a630154c0b5cc92e966\n",
            "  Stored in directory: /root/.cache/pip/wheels/9f/f0/04/caa82c912aee89ce76358ff954f3f0729b7577c8ff23a292e3\n",
            "Successfully built fasttext\n",
            "Installing collected packages: fasttext\n",
            "Successfully installed fasttext-0.9.1\n",
            "Requirement already satisfied: jieba in /usr/local/lib/python3.6/dist-packages (0.39)\n"
          ],
          "name": "stdout"
        }
      ]
    },
    {
      "cell_type": "code",
      "metadata": {
        "id": "JXIjE5LIer6w",
        "colab_type": "code",
        "colab": {
          "base_uri": "https://localhost:8080/",
          "height": 212
        },
        "outputId": "4e77c55a-a9d9-4df9-ed31-c16a059d7525"
      },
      "source": [
        "!wget https://dl.fbaipublicfiles.com/fasttext/vectors-wiki/wiki.zh_yue.vec"
      ],
      "execution_count": 2,
      "outputs": [
        {
          "output_type": "stream",
          "text": [
            "--2019-10-18 08:47:00--  https://dl.fbaipublicfiles.com/fasttext/vectors-wiki/wiki.zh_yue.vec\n",
            "Resolving dl.fbaipublicfiles.com (dl.fbaipublicfiles.com)... 104.20.6.166, 104.20.22.166, 2606:4700:10::6814:16a6, ...\n",
            "Connecting to dl.fbaipublicfiles.com (dl.fbaipublicfiles.com)|104.20.6.166|:443... connected.\n",
            "HTTP request sent, awaiting response... 200 OK\n",
            "Length: 130267704 (124M) [binary/octet-stream]\n",
            "Saving to: ‘wiki.zh_yue.vec’\n",
            "\n",
            "wiki.zh_yue.vec     100%[===================>] 124.23M  22.9MB/s    in 6.0s    \n",
            "\n",
            "2019-10-18 08:47:07 (20.7 MB/s) - ‘wiki.zh_yue.vec’ saved [130267704/130267704]\n",
            "\n"
          ],
          "name": "stdout"
        }
      ]
    },
    {
      "cell_type": "code",
      "metadata": {
        "id": "kNUTxAStesC6",
        "colab_type": "code",
        "colab": {}
      },
      "source": [
        "import fasttext\n",
        "import jieba\n",
        "import jieba.analyse"
      ],
      "execution_count": 0,
      "outputs": []
    },
    {
      "cell_type": "code",
      "metadata": {
        "id": "fBMBSD8-esI-",
        "colab_type": "code",
        "colab": {
          "base_uri": "https://localhost:8080/",
          "height": 88
        },
        "outputId": "d79b43c5-75e2-4115-8d71-4f0e85d21299"
      },
      "source": [
        "jieba.load_userdict(\"user.dict\")"
      ],
      "execution_count": 4,
      "outputs": [
        {
          "output_type": "stream",
          "text": [
            "Building prefix dict from the default dictionary ...\n",
            "Dumping model to file cache /tmp/jieba.cache\n",
            "Loading model cost 0.952 seconds.\n",
            "Prefix dict has been built succesfully.\n"
          ],
          "name": "stderr"
        }
      ]
    },
    {
      "cell_type": "code",
      "metadata": {
        "id": "dgrdoNL-esO1",
        "colab_type": "code",
        "colab": {
          "base_uri": "https://localhost:8080/",
          "height": 35
        },
        "outputId": "cdcf05ce-bd20-4025-af81-73d31e877d83"
      },
      "source": [
        "# Get stopwords list\n",
        "def get_stopwords_list(file_path):\n",
        "    file_stop = open(file_path, 'r')\n",
        "    vec_out_words = []\n",
        "    for szLine in file_stop:\n",
        "        vec_out_words.append(szLine.strip())\n",
        "    file_stop.close()\n",
        "    return vec_out_words\n",
        "\n",
        "# Segmentation without stop words\n",
        "def sentence_seg(sentence):\n",
        "    tags = \"\" if sentence is None else \"/\".join(jieba.cut(sentence))\n",
        "    #print(tags)\n",
        "    stopwords = get_stopwords_list('StopWords_V2.txt')\n",
        "    start = 0\n",
        "    end = 0\n",
        "    curr_posn = 0\n",
        "    out_str = ''\n",
        "    for char in tags:\n",
        "        if char == '/':\n",
        "            word = tags[start:curr_posn]\n",
        "            if word not in stopwords:\n",
        "                out_str += word\n",
        "                out_str += \" \"\n",
        "            start = curr_posn + 1\n",
        "        curr_posn += 1\n",
        "    return out_str\n",
        "\n",
        "\n",
        "with open('entireT_C.train', 'r', encoding = 'utf-8') as sourceFile, open('entireT_C2.train', 'a+', encoding = 'utf-8') as targetFile:\n",
        "    for line in sourceFile:\n",
        "        line_seg = sentence_seg(line)\n",
        "        targetFile.write(line_seg)\n",
        "        targetFile.write('\\n')\n",
        "    print('done！')"
      ],
      "execution_count": 6,
      "outputs": [
        {
          "output_type": "stream",
          "text": [
            "done！\n"
          ],
          "name": "stdout"
        }
      ]
    },
    {
      "cell_type": "code",
      "metadata": {
        "id": "_wFH2KwQesVv",
        "colab_type": "code",
        "colab": {}
      },
      "source": [
        "model4=fasttext.train_supervised(input=\"entireT_C2.train\",epoch=50,lr=0.5,minn=2,maxn=3,dim=300,pretrained_vectors='wiki.zh_yue.vec')"
      ],
      "execution_count": 0,
      "outputs": []
    },
    {
      "cell_type": "markdown",
      "metadata": {
        "id": "17Y08wvhe8Uh",
        "colab_type": "text"
      },
      "source": [
        "# **Testing**"
      ]
    },
    {
      "cell_type": "code",
      "metadata": {
        "id": "H27VP59besZD",
        "colab_type": "code",
        "colab": {
          "base_uri": "https://localhost:8080/",
          "height": 144
        },
        "outputId": "79a5e84f-5132-4e1c-f916-c2b2d6ffa943"
      },
      "source": [
        "#98 (original call guide)\n",
        "script4 =\"請留意如果您想提早償還全數貸款我哋會收取借款本金餘額及本金結欠的2%的款項如您未能按期償還全數每月還款我哋將會收取每次港幣400蚊嘅逾期還款手續費及按任何逾期未還嘅每月還款額收利息利息為月息2.25厘我們亦會參考對內對外信貸資料作最後審批 \"\n",
        "test4 = sentence_seg(script4)\n",
        "print(\"test-#98: \" + test4)\n",
        "print (\"test:\",model4.predict(test4))\n",
        "#98 (from transcript ivy 1s -1003)\n",
        "test10 = sentence_seg(\"請留意返如果你想提早上船還數貸款我哋會收返你正本本金魚街同埋本間見面嘅兩個percent款項如果你未能按其實還全數每月還款我哋會生返你每次港幣400蚊嘅預期還款手續同埋我任何逾期未還嘅每月還款額收利息嘅你識唔會為原色二點至五呢我哋都會參考反對內對外嘅信貸資料在最後審批我所講嘅鍾小姐是否清楚明白同意 \")\n",
        "print(\"test-#98 got it from Ivy 1s: \" + test10)\n",
        "print (\"test:\",model4.predict(test10))\n",
        "#98 (from transcript ivy 0.7s - 1003)\n",
        "script11 =\"唔好明白咁呢度已經睇到㗎喇你可以下載返銅儲存返你啱啱行咗去文件咁請留返如果你想提早上還全數太高我哋會收返你借款本金魚夾同埋本間見面嘅兩個percent款項如果你未能按其實還全數每月還款我哋會收返你每次港幣400蚊嘅預期還款手續費同埋我任何逾期未還嘅每月還款額收利息嘅你 \"\n",
        "test11 = sentence_seg(script11)\n",
        "print(\"test-#98 got it from Ivy 0.7s: \" + test11)\n",
        "print (\"test:\",model4.predict(test11))"
      ],
      "execution_count": 8,
      "outputs": [
        {
          "output_type": "stream",
          "text": [
            "test-#98: 請 留意 如果 想 提早償還 全數 貸款 會 收取 借款 本金 餘額 本金 結欠 2% 款項 如 未能 按期 償還 全數 每月 還款 將會 收取 每次 港幣 400 蚊 逾期 還款 手續費 按 任何 逾期未還 每月 還款 額收 利息 利息 為 月息 2.25 厘我們 亦 會 參考 對內對外 信貸資料 作 最 後 審批 \n",
            "test: (('__label__R98',), array([0.99606836]))\n",
            "test-#98 got it from Ivy 1s: 請 留意 返 如果 想 提早 上船 還數 貸款 會 收返 正本 本金 魚街 本間 見 面 兩個percent 款項 如果 未能 按其實 還全數 每月 還款 會 生返 每次 港幣 400 蚊 預 期 還款 手續 任何 逾期未還 每月 還款 額收 利息 識 唔會 為 原色 二點 至 五 會 參考 反 對內對外 信貸資料 在 最 後 審批 所 講 鍾 是否 清楚 明白 同意 \n",
            "test: (('__label__R98',), array([0.92454273]))\n",
            "test-#98 got it from Ivy 0.7s: 唔 好 明白 度 已經 睇 到 可以 下載 返銅 儲存 返 啱 啱 行 去 文件 請 留返 如果 想 提早 上 還全 數太高 會 收返 借款 本金 魚夾 本間 見 面 兩個percent 款項 如果 未能 按其實 還全數 每月 還款 會 收返 每次 港幣 400 蚊 預 期 還款 手續費 任何 逾期未還 每月 還款 額收 利息 \n",
            "test: (('__label__R98',), array([0.81023252]))\n"
          ],
          "name": "stdout"
        }
      ]
    },
    {
      "cell_type": "code",
      "metadata": {
        "id": "4f4bTkEqescN",
        "colab_type": "code",
        "colab": {
          "base_uri": "https://localhost:8080/",
          "height": 195
        },
        "outputId": "89e0eef9-287d-4b9b-92ad-655fdbb1e4b6"
      },
      "source": [
        "test_irr = sentence_seg(\"雅虎香港新聞提供各類最新焦點及熱門新聞閱讀深入的相關報道新聞影片和圖片 \")\n",
        "print (\"test_case 1: \" + test_irr)\n",
        "print (model4.predict(test_irr))\n",
        "test_irr3 = sentence_seg(\"首置800萬樓按九成可不符壓測經濟師增買家意欲二手樓年底料升半成 \")\n",
        "print (\"test_case 3: \" + test_irr3)\n",
        "print (model4.predict(test_irr3))\n",
        "test_irr4 = sentence_seg(\"由2019年10月8日至11月24日憑滙豐信用卡累積本地合資格簽賬滿港幣6000元可享以下優惠 \")\n",
        "print (\"test_case : \" + test_irr4)\n",
        "print (model4.predict(test_irr4))\n",
        "test_irr5 = sentence_seg(\"呢個 \")\n",
        "print (\"test_case : \" + test_irr5)\n",
        "print (model4.predict(test_irr5))\n",
        "test_irr6 = sentence_seg(\"我哋 您嘅 \")\n",
        "print (\"test_case : \" + test_irr6)\n",
        "print (model4.predict(test_irr6))"
      ],
      "execution_count": 9,
      "outputs": [
        {
          "output_type": "stream",
          "text": [
            "test_case 1: 雅虎 香港 新聞 提供 各類 最新 焦點 熱門 新聞 閱讀 深入 相關 報道 新聞 影片 圖片 \n",
            "(('__label__R129',), array([0.1098084]))\n",
            "test_case 3: 首置 800 萬樓 按 九成 可 不符 壓測 經濟師 增買家 意欲 二手 樓 年底 料升 半成 \n",
            "(('__label__R138',), array([0.06099574]))\n",
            "test_case : 由 2019 年 10 月 8 日至 11 月 24 日 憑 滙豐 信用卡 累積 本地 合資格 簽賬 滿港幣 6000 元 可享 以下 優惠 \n",
            "(('__label__R124',), array([0.13588201]))\n",
            "test_case : \n",
            "(('__label__R188',), array([0.32313672]))\n",
            "test_case :   \n",
            "(('__label__R188',), array([0.32313672]))\n"
          ],
          "name": "stdout"
        }
      ]
    },
    {
      "cell_type": "markdown",
      "metadata": {
        "id": "9_X_TH4HgBwO",
        "colab_type": "text"
      },
      "source": [
        "# multiple T&**C**"
      ]
    },
    {
      "cell_type": "code",
      "metadata": {
        "id": "Eg4tkJm4gBZ-",
        "colab_type": "code",
        "colab": {
          "base_uri": "https://localhost:8080/",
          "height": 215
        },
        "outputId": "1532e45d-ffbe-4006-cbcb-fbb810bb8f06"
      },
      "source": [
        "testcase=sentence_seg(\"係呀你要唔開撳返開個超連結之後呢就撳返開始睇完之後撳返文件底破格仔剔返同埋近住就ok㗎喇咁呢度呢就寫一齊鍾小姐申請貸款之前請先考慮清楚財政狀況同埋玩風帆的你申請嘅分期買前呢銀碼會係呢個港幣嘅五萬蚊嘅咁就乜啦12個月還每月平息計零點二九零實際年利率六點五七號月功課係4310一個七全期總利息會係一千七百四十蚊嘅咁假如呢個銀碼呢覆核過冇問題之後呢咁\")\n",
        "print(\"testcase - multiple T&C (87/86/102): \" + testcase)\n",
        "print (\"test:\",model4.predict(testcase,k=5))\n",
        "testcase1=sentence_seg(\"係呀你要唔開撳返開個超連結之後呢就撳返開始睇完之後撳返文件底破格仔剔返 \")\n",
        "print(\"testcase1 - 102: \" + testcase1)\n",
        "print (\"test:\",model4.predict(testcase1,k=5))\n",
        "testcase2=sentence_seg(\"同埋近住就ok㗎喇咁呢度呢就寫一齊鍾小姐申請貸款之前請先考慮清楚財政狀況 \")\n",
        "print(\"testcase2 - 86: \" + testcase2)\n",
        "print (\"test:\",model4.predict(testcase2,k=5))\n",
        "testcase3=sentence_seg(\"同埋玩風帆的你申請嘅分期買前呢銀碼會係呢個港幣嘅五萬蚊嘅咁就乜啦12個月還每月平息計零點二九零實際年利率六點五七號月功課係4310一個七全期總利息會係一千七百四十蚊嘅咁假如呢個銀碼呢覆核過冇問題之後呢咁 \")\n",
        "print(\"testcase3 - 87: \" + testcase3)\n",
        "print (\"test:\",model4.predict(testcase3,k=5))\n",
        "testcase4=sentence_seg(\"我哋會喺您尾數轉出到您所申請嘅貸款一旦貸款批核喺呢啲卡入面嘅加額優惠將自動失效您是否明白及同意假如覆核咗銀碼係無問題一經批核貸款會直接存入您指定嘅匯豐戶口但我哋唔會再有電話通知你啦我哋會寄出一封確認信清楚列明已批核嘅貸款額嘅詳細內容及第一期還款日期 \")\n",
        "print(\"testcase4 - 88/89: \" + testcase4)\n",
        "print (\"test:\",model4.predict(testcase4,k=5))"
      ],
      "execution_count": 11,
      "outputs": [
        {
          "output_type": "stream",
          "text": [
            "testcase - multiple T&C (87/86/102): 係 呀 要 唔 開 撳 返 開個 超連結 之 後 撳 返 開始 睇 完 之 後 撳 返 文件 底 破格 仔 剔返 近住 ok 度 寫 一齊 鍾 申請 貸款 之前 請 先 考慮 清楚 財政 狀況 玩風帆 申請 分期 買前 銀碼 會 係 港 幣 五 萬 蚊 乜 12 個月還 每月 平息 計零點 二 九零 實際年利率 六點 五七 號月 功課 係 4310 一個 七 全期 總利息 會 係 一千七百 四十 蚊 假如 銀碼 覆核 過 冇 問題 之 後 \n",
            "test: (('__label__R98', '__label__R138', '__label__R190', '__label__R86', '__label__R102'), array([0.08903697, 0.06555357, 0.0652247 , 0.06367951, 0.0598004 ]))\n",
            "testcase1 - 102: 係 呀 要 唔 開 撳 返 開個 超連結 之 後 撳 返 開始 睇 完 之 後 撳 返 文件 底 破格 仔 剔返 \n",
            "test: (('__label__R102', '__label__R97', '__label__R138', '__label__R140', '__label__R191'), array([0.50691754, 0.06267066, 0.05662801, 0.02646599, 0.02520175]))\n",
            "testcase2 - 86: 近住 ok 度 寫 一齊 鍾 申請 貸款 之前 請 先 考慮 清楚 財政 狀況 \n",
            "test: (('__label__R86', '__label__R88', '__label__R125', '__label__R190', '__label__R136'), array([0.88666761, 0.02098553, 0.01263096, 0.01238472, 0.00949346]))\n",
            "testcase3 - 87: 玩風帆 申請 分期 買前 銀碼 會 係 港 幣 五 萬 蚊 乜 12 個月還 每月 平息 計零點 二 九零 實際年利率 六點 五七 號月 功課 係 4310 一個 七 全期 總利息 會 係 一千七百 四十 蚊 假如 銀碼 覆核 過 冇 問題 之 後 \n",
            "test: (('__label__R87', '__label__R98', '__label__R176', '__label__R89', '__label__R184'), array([0.14304426, 0.12448652, 0.10730618, 0.07496621, 0.06398527]))\n",
            "testcase4 - 88/89: 會 尾數 轉出 到 所 申請 貸款 一旦 貸款 批核 啲 卡 入 面 加額優惠 將自動 失效 是否 明白 同意 假如 覆核 銀碼 係 無 問題 一經 批核 貸款 會 直接 存入 指定 匯 豐 戶口 但 唔會 再有 電話 通知 會 寄出 一封 確認信 清楚 列明 已 批核 貸款額 詳細內容 第一期 還款日期 \n",
            "test: (('__label__R89', '__label__R88', '__label__R176', '__label__R183', '__label__R139'), array([0.91526324, 0.04764195, 0.0182724 , 0.01375518, 0.00171708]))\n"
          ],
          "name": "stdout"
        }
      ]
    },
    {
      "cell_type": "code",
      "metadata": {
        "id": "j1175a_3esf7",
        "colab_type": "code",
        "colab": {}
      },
      "source": [
        "model6=fasttext.train_supervised(input=\"entireT_C2.train\",epoch=100,lr=0.1,minn=2,maxn=3,dim=300,pretrained_vectors='wiki.zh_yue.vec',verbose=2,loss='ova')"
      ],
      "execution_count": 0,
      "outputs": []
    },
    {
      "cell_type": "code",
      "metadata": {
        "id": "iAAHdgxcesk6",
        "colab_type": "code",
        "colab": {
          "base_uri": "https://localhost:8080/",
          "height": 215
        },
        "outputId": "a0e95b9f-75df-4331-c5e0-31d7c5aa49d5"
      },
      "source": [
        "testcase=sentence_seg(\"係呀你要唔開撳返開個超連結之後呢就撳返開始睇完之後撳返文件底破格仔剔返同埋近住就ok㗎喇咁呢度呢就寫一齊鍾小姐申請貸款之前請先考慮清楚財政狀況同埋玩風帆的你申請嘅分期買前呢銀碼會係呢個港幣嘅五萬蚊嘅咁就乜啦12個月還每月平息計零點二九零實際年利率六點五七號月功課係4310一個七全期總利息會係一千七百四十蚊嘅咁假如呢個銀碼呢覆核過冇問題之後呢咁\")\n",
        "print(\"testcase - multiple T&C (87/86/102): \" + testcase)\n",
        "print (\"test:\",model6.predict(testcase,k=5))\n",
        "testcase1=sentence_seg(\"係呀你要唔開撳返開個超連結之後呢就撳返開始睇完之後撳返文件底破格仔剔返 \")\n",
        "print(\"testcase1 - 102: \" + testcase1)\n",
        "print (\"test:\",model6.predict(testcase1,k=5))\n",
        "testcase2=sentence_seg(\"同埋近住就ok㗎喇咁呢度呢就寫一齊鍾小姐申請貸款之前請先考慮清楚財政狀況 \")\n",
        "print(\"testcase2 - 86: \" + testcase2)\n",
        "print (\"test:\",model6.predict(testcase2,k=5))\n",
        "testcase3=sentence_seg(\"同埋玩風帆的你申請嘅分期買前呢銀碼會係呢個港幣嘅五萬蚊嘅咁就乜啦12個月還每月平息計零點二九零實際年利率六點五七號月功課係4310一個七全期總利息會係一千七百四十蚊嘅咁假如呢個銀碼呢覆核過冇問題之後呢咁 \")\n",
        "print(\"testcase3 - 87: \" + testcase3)\n",
        "print (\"test:\",model6.predict(testcase3,k=5))\n",
        "testcase4=sentence_seg(\"我哋會喺您尾數轉出到您所申請嘅貸款一旦貸款批核喺呢啲卡入面嘅加額優惠將自動失效您是否明白及同意假如覆核咗銀碼係無問題一經批核貸款會直接存入您指定嘅匯豐戶口但我哋唔會再有電話通知你啦我哋會寄出一封確認信清楚列明已批核嘅貸款額嘅詳細內容及第一期還款日期 \")\n",
        "print(\"testcase4 - 88/89: \" + testcase4)\n",
        "print (\"test:\",model6.predict(testcase4,k=5))"
      ],
      "execution_count": 17,
      "outputs": [
        {
          "output_type": "stream",
          "text": [
            "testcase - multiple T&C (87/86/102): 係 呀 要 唔 開 撳 返 開個 超連結 之 後 撳 返 開始 睇 完 之 後 撳 返 文件 底 破格 仔 剔返 近住 ok 度 寫 一齊 鍾 申請 貸款 之前 請 先 考慮 清楚 財政 狀況 玩風帆 申請 分期 買前 銀碼 會 係 港 幣 五 萬 蚊 乜 12 個月還 每月 平息 計零點 二 九零 實際年利率 六點 五七 號月 功課 係 4310 一個 七 全期 總利息 會 係 一千七百 四十 蚊 假如 銀碼 覆核 過 冇 問題 之 後 \n",
            "test: (('__label__R87', '__label__R102', '__label__R86', '__label__R98', '__label__R136'), array([0.00942259, 0.00832578, 0.00649827, 0.00349342, 0.00338661]))\n",
            "testcase1 - 102: 係 呀 要 唔 開 撳 返 開個 超連結 之 後 撳 返 開始 睇 完 之 後 撳 返 文件 底 破格 仔 剔返 \n",
            "test: (('__label__R102', '__label__R97', '__label__R124', '__label__R185', '__label__R178'), array([0.14034626, 0.02844604, 0.00913564, 0.00670285, 0.00670285]))\n",
            "testcase2 - 86: 近住 ok 度 寫 一齊 鍾 申請 貸款 之前 請 先 考慮 清楚 財政 狀況 \n",
            "test: (('__label__R86', '__label__R88', '__label__R180', '__label__R192', '__label__R187'), array([0.33459947, 0.00129431, 0.0010105 , 0.00094994, 0.00094994]))\n",
            "testcase3 - 87: 玩風帆 申請 分期 買前 銀碼 會 係 港 幣 五 萬 蚊 乜 12 個月還 每月 平息 計零點 二 九零 實際年利率 六點 五七 號月 功課 係 4310 一個 七 全期 總利息 會 係 一千七百 四十 蚊 假如 銀碼 覆核 過 冇 問題 之 後 \n",
            "test: (('__label__R87', '__label__R184', '__label__R98', '__label__R89', '__label__R138'), array([0.03964884, 0.00832578, 0.00713143, 0.0062999 , 0.00574025]))\n",
            "testcase4 - 88/89: 會 尾數 轉出 到 所 申請 貸款 一旦 貸款 批核 啲 卡 入 面 加額優惠 將自動 失效 是否 明白 同意 假如 覆核 銀碼 係 無 問題 一經 批核 貸款 會 直接 存入 指定 匯 豐 戶口 但 唔會 再有 電話 通知 會 寄出 一封 確認信 清楚 列明 已 批核 貸款額 詳細內容 第一期 還款日期 \n",
            "test: (('__label__R89', '__label__R88', '__label__R176', '__label__R183', '__label__R86'), array([0.53121936, 0.06755669, 0.00349342, 0.00151118, 0.0006562 ]))\n"
          ],
          "name": "stdout"
        }
      ]
    },
    {
      "cell_type": "code",
      "metadata": {
        "id": "kMBlsWfZesjB",
        "colab_type": "code",
        "colab": {}
      },
      "source": [
        ""
      ],
      "execution_count": 0,
      "outputs": []
    }
  ]
}